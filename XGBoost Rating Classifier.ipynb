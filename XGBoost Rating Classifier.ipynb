{
 "cells": [
  {
   "cell_type": "code",
   "execution_count": 171,
   "metadata": {},
   "outputs": [],
   "source": [
    "import numpy as np\n",
    "import pandas as pd\n",
    "from xgboost import XGBClassifier\n",
    "from sklearn.metrics import mean_squared_error, recall_score, accuracy_score, confusion_matrix"
   ]
  },
  {
   "cell_type": "code",
   "execution_count": 87,
   "metadata": {},
   "outputs": [],
   "source": [
    "#Set Working Directory\n",
    "working_directory = \"C:/Users/Eric/Documents/Offline Uni/Social Networks Assignment 3/ml-100k/\""
   ]
  },
  {
   "cell_type": "code",
   "execution_count": 267,
   "metadata": {},
   "outputs": [],
   "source": [
    "def gradient_boosting(training_set, testing_set):\n",
    "    #Set training and testing labels\n",
    "    x_train = training_set[['userId', 'movieId']].to_numpy()\n",
    "    y_train = training_set[['rating']]\n",
    "    x_test = testing_set[['userId', 'movieId']].to_numpy()\n",
    "    y_test = testing_set[['rating']]\n",
    "\n",
    "    #Fit data to model\n",
    "    model = XGBClassifier(eta=0.94, max_depth=4, gamma=0.01)\n",
    "    model.fit(x_train, y_train.values.ravel())\n",
    "\n",
    "    #Predict test set\n",
    "    y_pred = model.predict(x_test)\n",
    "    predictions = [round(value) for value in y_pred]\n",
    "\n",
    "    #Evaluate RMSE and Recall\n",
    "    rmse = mean_squared_error(y_test, predictions, squared=False)\n",
    "    recall = recall_score(y_test, predictions, average='micro')\n",
    "\n",
    "    return rmse, recall"
   ]
  },
  {
   "cell_type": "code",
   "execution_count": 268,
   "metadata": {},
   "outputs": [
    {
     "name": "stdout",
     "output_type": "stream",
     "text": [
      "CV rmse is: 1.1205\n",
      "CV recall is:0.4144\n"
     ]
    }
   ],
   "source": [
    "#Run Validation Sets on XGBoost\n",
    "avg_rmse = 0\n",
    "avg_recall = 0\n",
    "for i in range(1, 6):\n",
    "    #Set train and test locations\n",
    "    train_set = pd.read_csv(working_directory + \"u\" + str(i) + \".base.csv\", header=None, usecols=[0,1,2], names=['userId', 'movieId', 'rating'])\n",
    "    test_set = pd.read_csv(working_directory + \"u\" + str(i) + \".test.csv\", header=None, usecols=[0,1,2], names=['userId', 'movieId', 'rating'])\n",
    "    rmse, recall = gradient_boosting(train_set, test_set)\n",
    "    avg_rmse = avg_rmse + rmse\n",
    "    avg_recall = avg_recall + recall\n",
    "print(\"CV rmse is: \" + str(round(avg_rmse/5, 4)))\n",
    "print(\"CV recall is:\" + str(round(avg_recall/5, 4)))"
   ]
  },
  {
   "cell_type": "code",
   "execution_count": 248,
   "metadata": {},
   "outputs": [],
   "source": [
    "#Best so far\n",
    "#eta=0.94 ,max_depth=4, gamma=0.01\n",
    "#CV rmse is: 1.1205\n",
    "#CV recall is:0.4144"
   ]
  }
 ],
 "metadata": {
  "kernelspec": {
   "display_name": "Python 3",
   "language": "python",
   "name": "python3"
  },
  "language_info": {
   "codemirror_mode": {
    "name": "ipython",
    "version": 3
   },
   "file_extension": ".py",
   "mimetype": "text/x-python",
   "name": "python",
   "nbconvert_exporter": "python",
   "pygments_lexer": "ipython3",
   "version": "3.7.7"
  }
 },
 "nbformat": 4,
 "nbformat_minor": 4
}
